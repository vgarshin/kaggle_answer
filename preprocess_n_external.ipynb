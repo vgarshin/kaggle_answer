{
 "cells": [
  {
   "cell_type": "markdown",
   "metadata": {},
   "source": [
    "# Preprocess and external data notebook"
   ]
  },
  {
   "cell_type": "markdown",
   "metadata": {
    "papermill": {
     "duration": 0.014455,
     "end_time": "2021-09-08T21:33:19.091222",
     "exception": false,
     "start_time": "2021-09-08T21:33:19.076767",
     "status": "completed"
    },
    "tags": []
   },
   "source": [
    "## MLQA data"
   ]
  },
  {
   "cell_type": "code",
   "execution_count": null,
   "metadata": {
    "_cell_guid": "b1076dfc-b9ad-4769-8c92-a6c4dae69d19",
    "_uuid": "8f2839f25d086af736a60e9eeb907d3b93b6e0e5",
    "execution": {
     "iopub.execute_input": "2021-09-08T21:33:19.145964Z",
     "iopub.status.busy": "2021-09-08T21:33:19.135215Z",
     "iopub.status.idle": "2021-09-08T21:33:27.879836Z",
     "shell.execute_reply": "2021-09-08T21:33:27.880336Z",
     "shell.execute_reply.started": "2021-08-16T04:17:28.101415Z"
    },
    "papermill": {
     "duration": 8.774626,
     "end_time": "2021-09-08T21:33:27.880621",
     "exception": false,
     "start_time": "2021-09-08T21:33:19.105995",
     "status": "completed"
    },
    "tags": []
   },
   "outputs": [],
   "source": [
    "!wget https://dl.fbaipublicfiles.com/MLQA/MLQA_V1.zip"
   ]
  },
  {
   "cell_type": "code",
   "execution_count": null,
   "metadata": {},
   "outputs": [],
   "source": [
    "DATA_PATH = './data'"
   ]
  },
  {
   "cell_type": "code",
   "execution_count": null,
   "metadata": {
    "execution": {
     "iopub.execute_input": "2021-09-08T21:33:27.932153Z",
     "iopub.status.busy": "2021-09-08T21:33:27.931288Z",
     "iopub.status.idle": "2021-09-08T21:33:30.253128Z",
     "shell.execute_reply": "2021-09-08T21:33:30.252373Z",
     "shell.execute_reply.started": "2021-08-16T04:17:33.443675Z"
    },
    "papermill": {
     "duration": 2.349375,
     "end_time": "2021-09-08T21:33:30.253277",
     "exception": false,
     "start_time": "2021-09-08T21:33:27.903902",
     "status": "completed"
    },
    "tags": []
   },
   "outputs": [],
   "source": [
    "import zipfile\n",
    "with zipfile.ZipFile('MLQA_V1.zip') as zip_ref:\n",
    "    zip_ref.extractall(DATA_PATH)"
   ]
  },
  {
   "cell_type": "code",
   "execution_count": null,
   "metadata": {
    "execution": {
     "iopub.execute_input": "2021-09-08T21:33:30.304317Z",
     "iopub.status.busy": "2021-09-08T21:33:30.303411Z",
     "iopub.status.idle": "2021-09-08T21:33:31.760108Z",
     "shell.execute_reply": "2021-09-08T21:33:31.759295Z",
     "shell.execute_reply.started": "2021-08-18T18:39:25.503805Z"
    },
    "papermill": {
     "duration": 1.484255,
     "end_time": "2021-09-08T21:33:31.760279",
     "exception": false,
     "start_time": "2021-09-08T21:33:30.276024",
     "status": "completed"
    },
    "tags": []
   },
   "outputs": [],
   "source": [
    "import os\n",
    "import sys\n",
    "import random\n",
    "import argparse\n",
    "import json\n",
    "import nltk\n",
    "import numpy as np\n",
    "import pandas as pd\n",
    "from tqdm.auto import tqdm"
   ]
  },
  {
   "cell_type": "code",
   "execution_count": null,
   "metadata": {
    "execution": {
     "iopub.execute_input": "2021-09-08T21:33:31.812840Z",
     "iopub.status.busy": "2021-09-08T21:33:31.811696Z",
     "iopub.status.idle": "2021-09-08T21:33:32.387968Z",
     "shell.execute_reply": "2021-09-08T21:33:32.387263Z",
     "shell.execute_reply.started": "2021-08-16T04:32:42.512017Z"
    },
    "papermill": {
     "duration": 0.604902,
     "end_time": "2021-09-08T21:33:32.388113",
     "exception": false,
     "start_time": "2021-09-08T21:33:31.783211",
     "status": "completed"
    },
    "tags": []
   },
   "outputs": [],
   "source": [
    "mlqa_train_data = f'{DATA_PATH}/MLQA_V1/dev/dev-context-hi-question-hi.json'\n",
    "mlqa_test_data = f'{DATA_PATH}/MLQA_V1/test/test-context-hi-question-hi.json'\n",
    "with open(mlqa_train_data, 'r') as file:\n",
    "    train_data = json.load(file)\n",
    "with open(mlqa_test_data, 'r') as file:\n",
    "    test_data = json.load(file)"
   ]
  },
  {
   "cell_type": "code",
   "execution_count": null,
   "metadata": {
    "execution": {
     "iopub.execute_input": "2021-09-08T21:33:32.442779Z",
     "iopub.status.busy": "2021-09-08T21:33:32.442098Z",
     "iopub.status.idle": "2021-09-08T21:33:32.445065Z",
     "shell.execute_reply": "2021-09-08T21:33:32.444544Z",
     "shell.execute_reply.started": "2021-08-16T04:32:46.111526Z"
    },
    "papermill": {
     "duration": 0.034264,
     "end_time": "2021-09-08T21:33:32.445205",
     "exception": false,
     "start_time": "2021-09-08T21:33:32.410941",
     "status": "completed"
    },
    "tags": []
   },
   "outputs": [],
   "source": [
    "def preprocess(dataset, tier):\n",
    "    num_exs = 0 \n",
    "    examples = []\n",
    "    for articles_id in tqdm(range(len(dataset['data'])), \n",
    "                            desc=f'preprocessing {tier}'):\n",
    "        article_paragraphs = dataset['data'][articles_id]['paragraphs']\n",
    "        for pid in range(len(article_paragraphs)):\n",
    "            context = article_paragraphs[pid]['context']\n",
    "            context = context.replace(\"''\", '\" ')\n",
    "            context = context.replace(\"``\", '\" ')\n",
    "            qas = article_paragraphs[pid]['qas'] \n",
    "            for qn in qas:\n",
    "                question = qn['question'] \n",
    "                ans_text = qn['answers'][0]['text']\n",
    "                ans_start_charloc = qn['answers'][0]['answer_start']\n",
    "                ans_end_charloc = ans_start_charloc + len(ans_text)\n",
    "                examples.append({\n",
    "                    'context':context, \n",
    "                    'question':question, \n",
    "                    'answer_text':ans_text, \n",
    "                    'answer_start':ans_start_charloc\n",
    "                })\n",
    "                num_exs += 1\n",
    "    print('num examples:', num_exs)\n",
    "    return examples"
   ]
  },
  {
   "cell_type": "code",
   "execution_count": null,
   "metadata": {
    "execution": {
     "iopub.execute_input": "2021-09-08T21:33:32.494839Z",
     "iopub.status.busy": "2021-09-08T21:33:32.494181Z",
     "iopub.status.idle": "2021-09-08T21:33:32.528236Z",
     "shell.execute_reply": "2021-09-08T21:33:32.527607Z",
     "shell.execute_reply.started": "2021-08-16T04:32:47.247775Z"
    },
    "papermill": {
     "duration": 0.060463,
     "end_time": "2021-09-08T21:33:32.528376",
     "exception": false,
     "start_time": "2021-09-08T21:33:32.467913",
     "status": "completed"
    },
    "tags": []
   },
   "outputs": [],
   "source": [
    "examples_train = preprocess(train_data, 'dev')\n",
    "examples_test = preprocess(test_data, 'test')"
   ]
  },
  {
   "cell_type": "code",
   "execution_count": null,
   "metadata": {
    "execution": {
     "iopub.execute_input": "2021-09-08T21:33:32.602778Z",
     "iopub.status.busy": "2021-09-08T21:33:32.601789Z",
     "iopub.status.idle": "2021-09-08T21:33:32.604987Z",
     "shell.execute_reply": "2021-09-08T21:33:32.605456Z",
     "shell.execute_reply.started": "2021-08-16T04:32:50.644061Z"
    },
    "papermill": {
     "duration": 0.052938,
     "end_time": "2021-09-08T21:33:32.605654",
     "exception": false,
     "start_time": "2021-09-08T21:33:32.552716",
     "status": "completed"
    },
    "tags": []
   },
   "outputs": [],
   "source": [
    "examples = examples_train + examples_test\n",
    "mlqa = pd.DataFrame(examples)\n",
    "mlqa['language'] = 'hindi'"
   ]
  },
  {
   "cell_type": "markdown",
   "metadata": {
    "papermill": {
     "duration": 0.024366,
     "end_time": "2021-09-08T21:33:32.654560",
     "exception": false,
     "start_time": "2021-09-08T21:33:32.630194",
     "status": "completed"
    },
    "tags": []
   },
   "source": [
    "## XQUAD data"
   ]
  },
  {
   "cell_type": "code",
   "execution_count": null,
   "metadata": {
    "execution": {
     "iopub.execute_input": "2021-09-08T21:33:32.713294Z",
     "iopub.status.busy": "2021-09-08T21:33:32.708541Z",
     "iopub.status.idle": "2021-09-08T21:33:36.194909Z",
     "shell.execute_reply": "2021-09-08T21:33:36.194319Z",
     "shell.execute_reply.started": "2021-08-16T04:35:19.300121Z"
    },
    "papermill": {
     "duration": 3.515976,
     "end_time": "2021-09-08T21:33:36.195055",
     "exception": false,
     "start_time": "2021-09-08T21:33:32.679079",
     "status": "completed"
    },
    "tags": []
   },
   "outputs": [],
   "source": [
    "!cd data/ && git clone https://github.com/deepmind/xquad.git"
   ]
  },
  {
   "cell_type": "code",
   "execution_count": null,
   "metadata": {
    "execution": {
     "iopub.execute_input": "2021-09-08T21:33:36.265345Z",
     "iopub.status.busy": "2021-09-08T21:33:36.264603Z",
     "iopub.status.idle": "2021-09-08T21:33:36.315565Z",
     "shell.execute_reply": "2021-09-08T21:33:36.315048Z",
     "shell.execute_reply.started": "2021-08-16T04:35:23.065826Z"
    },
    "papermill": {
     "duration": 0.088577,
     "end_time": "2021-09-08T21:33:36.315717",
     "exception": false,
     "start_time": "2021-09-08T21:33:36.227140",
     "status": "completed"
    },
    "tags": []
   },
   "outputs": [],
   "source": [
    "xquad_train_file = f'{DATA_PATH}/xquad/xquad.hi.json'\n",
    "with open(xquad_train_file, 'r') as file:\n",
    "    train_data = json.load(file)\n",
    "examples_train = preprocess(train_data, 'dev')\n",
    "xquad = pd.DataFrame(examples_train)\n",
    "xquad['language'] = 'hindi'"
   ]
  },
  {
   "cell_type": "markdown",
   "metadata": {
    "papermill": {
     "duration": 0.032806,
     "end_time": "2021-09-08T21:33:36.585188",
     "exception": false,
     "start_time": "2021-09-08T21:33:36.552382",
     "status": "completed"
    },
    "tags": []
   },
   "source": [
    "## Save data to files"
   ]
  },
  {
   "cell_type": "code",
   "execution_count": null,
   "metadata": {
    "execution": {
     "iopub.execute_input": "2021-09-08T21:33:36.656943Z",
     "iopub.status.busy": "2021-09-08T21:33:36.656238Z",
     "iopub.status.idle": "2021-09-08T21:33:36.993968Z",
     "shell.execute_reply": "2021-09-08T21:33:36.993391Z",
     "shell.execute_reply.started": "2021-08-16T04:37:50.484878Z"
    },
    "papermill": {
     "duration": 0.375813,
     "end_time": "2021-09-08T21:33:36.994136",
     "exception": false,
     "start_time": "2021-09-08T21:33:36.618323",
     "status": "completed"
    },
    "tags": []
   },
   "outputs": [],
   "source": [
    "mlqa.to_csv(f'{DATA_PATH}/mlqa_hindi.csv', index=False)\n",
    "xquad.to_csv(f'{DATA_PATH}/xquad.csv', index=False)"
   ]
  },
  {
   "cell_type": "code",
   "execution_count": null,
   "metadata": {
    "execution": {
     "iopub.execute_input": "2021-09-08T21:33:37.070485Z",
     "iopub.status.busy": "2021-09-08T21:33:37.069451Z",
     "iopub.status.idle": "2021-09-08T21:33:37.087044Z",
     "shell.execute_reply": "2021-09-08T21:33:37.087523Z",
     "shell.execute_reply.started": "2021-08-16T04:38:24.27021Z"
    },
    "papermill": {
     "duration": 0.059704,
     "end_time": "2021-09-08T21:33:37.087709",
     "exception": false,
     "start_time": "2021-09-08T21:33:37.028005",
     "status": "completed"
    },
    "tags": []
   },
   "outputs": [],
   "source": [
    "display(xquad.head())\n",
    "display(mlqa.head())"
   ]
  },
  {
   "cell_type": "code",
   "execution_count": null,
   "metadata": {
    "papermill": {
     "duration": 0.033395,
     "end_time": "2021-09-08T21:33:37.239426",
     "exception": false,
     "start_time": "2021-09-08T21:33:37.206031",
     "status": "completed"
    },
    "tags": []
   },
   "outputs": [],
   "source": []
  }
 ],
 "metadata": {
  "kernelspec": {
   "display_name": "Python 3",
   "language": "python",
   "name": "python3"
  },
  "language_info": {
   "codemirror_mode": {
    "name": "ipython",
    "version": 3
   },
   "file_extension": ".py",
   "mimetype": "text/x-python",
   "name": "python",
   "nbconvert_exporter": "python",
   "pygments_lexer": "ipython3",
   "version": "3.8.3"
  },
  "papermill": {
   "default_parameters": {},
   "duration": 27.819001,
   "end_time": "2021-09-08T21:33:38.844100",
   "environment_variables": {},
   "exception": null,
   "input_path": "__notebook__.ipynb",
   "output_path": "__notebook__.ipynb",
   "parameters": {},
   "start_time": "2021-09-08T21:33:11.025099",
   "version": "2.3.3"
  }
 },
 "nbformat": 4,
 "nbformat_minor": 5
}
