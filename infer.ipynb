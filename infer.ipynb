{
 "cells": [
  {
   "cell_type": "code",
   "execution_count": null,
   "metadata": {},
   "outputs": [],
   "source": [
    "DEBUG = True\n",
    "KAGGLE = False"
   ]
  },
  {
   "cell_type": "code",
   "execution_count": null,
   "metadata": {
    "_cell_guid": "b1076dfc-b9ad-4769-8c92-a6c4dae69d19",
    "_uuid": "8f2839f25d086af736a60e9eeb907d3b93b6e0e5",
    "execution": {
     "iopub.execute_input": "2021-08-17T20:47:18.480768Z",
     "iopub.status.busy": "2021-08-17T20:47:18.480353Z",
     "iopub.status.idle": "2021-08-17T20:47:25.785550Z",
     "shell.execute_reply": "2021-08-17T20:47:25.784517Z",
     "shell.execute_reply.started": "2021-08-17T20:47:18.480678Z"
    }
   },
   "outputs": [],
   "source": [
    "import warnings\n",
    "if DEBUG:\n",
    "    warnings.filterwarnings('ignore', category=UserWarning)\n",
    "import os\n",
    "import gc\n",
    "gc.enable()\n",
    "import math\n",
    "import json\n",
    "import time\n",
    "import random\n",
    "import multiprocessing\n",
    "import numpy as np\n",
    "import pandas as pd\n",
    "from tqdm import tqdm, trange\n",
    "from sklearn import model_selection\n",
    "import torch\n",
    "import torch.nn as nn\n",
    "import torch.nn.functional as F\n",
    "from torch.nn import Parameter\n",
    "import torch.optim as optim\n",
    "from torch.utils.data import Dataset, DataLoader, SequentialSampler, RandomSampler\n",
    "from torch.utils.data.distributed import DistributedSampler\n",
    "import transformers\n",
    "from transformers import (\n",
    "    WEIGHTS_NAME,\n",
    "    AdamW,\n",
    "    AutoConfig,\n",
    "    AutoModel,\n",
    "    AutoTokenizer,\n",
    "    get_cosine_schedule_with_warmup,\n",
    "    get_linear_schedule_with_warmup,\n",
    "    logging,\n",
    "    MODEL_FOR_QUESTION_ANSWERING_MAPPING,\n",
    ")\n",
    "logging.set_verbosity_warning()\n",
    "logging.set_verbosity_error()\n",
    "os.environ['CUDA_VISIBLE_DEVICES'] = '0' if KAGGLE else '1'"
   ]
  },
  {
   "cell_type": "markdown",
   "metadata": {},
   "source": [
    "# Config"
   ]
  },
  {
   "cell_type": "code",
   "execution_count": null,
   "metadata": {
    "execution": {
     "iopub.execute_input": "2021-08-17T20:47:31.148975Z",
     "iopub.status.busy": "2021-08-17T20:47:31.148640Z",
     "iopub.status.idle": "2021-08-17T20:47:31.156052Z",
     "shell.execute_reply": "2021-08-17T20:47:31.154971Z",
     "shell.execute_reply.started": "2021-08-17T20:47:31.148944Z"
    }
   },
   "outputs": [],
   "source": [
    "VER = 'v6'\n",
    "DATA_PATH = '../input/chaii-hindi-and-tamil-question-answering' if KAGGLE else './data'\n",
    "MDLS_PATH = f'../input/chaii-models-{VER}' if KAGGLE else f'./models_{VER}'\n",
    "with open(f'{MDLS_PATH}/base_config.json', 'r') as file:\n",
    "    config = json.load(file)\n",
    "print('config loaded:', config)\n",
    "\n",
    "def optimal_workers():\n",
    "    num_cpus = multiprocessing.cpu_count()\n",
    "    num_gpus = torch.cuda.device_count()\n",
    "    optimal_value = min(num_cpus, num_gpus*4) if num_gpus else num_cpus - 1\n",
    "    print('optimal number of workers is', optimal_value)\n",
    "    return optimal_value\n",
    "\n",
    "start_time = time.time()"
   ]
  },
  {
   "cell_type": "markdown",
   "metadata": {},
   "source": [
    "# Dataset Retriever"
   ]
  },
  {
   "cell_type": "code",
   "execution_count": null,
   "metadata": {
    "execution": {
     "iopub.execute_input": "2021-08-17T20:47:33.138582Z",
     "iopub.status.busy": "2021-08-17T20:47:33.138240Z",
     "iopub.status.idle": "2021-08-17T20:47:33.148342Z",
     "shell.execute_reply": "2021-08-17T20:47:33.147454Z",
     "shell.execute_reply.started": "2021-08-17T20:47:33.138552Z"
    }
   },
   "outputs": [],
   "source": [
    "class DatasetRetriever(Dataset):\n",
    "    def __init__(self, features, mode='train'):\n",
    "        super(DatasetRetriever, self).__init__()\n",
    "        self.features = features\n",
    "        self.mode = mode\n",
    "        \n",
    "    def __len__(self):\n",
    "        return len(self.features)\n",
    "    \n",
    "    def __getitem__(self, item):   \n",
    "        feature = self.features[item]\n",
    "        if self.mode == 'train':\n",
    "            return {\n",
    "                'input_ids':torch.tensor(feature['input_ids'], dtype=torch.long),\n",
    "                'attention_mask':torch.tensor(feature['attention_mask'], dtype=torch.long),\n",
    "                'offset_mapping':torch.tensor(feature['offset_mapping'], dtype=torch.long),\n",
    "                'start_position':torch.tensor(feature['start_position'], dtype=torch.long),\n",
    "                'end_position':torch.tensor(feature['end_position'], dtype=torch.long)\n",
    "            }\n",
    "        else:\n",
    "            return {\n",
    "                'input_ids':torch.tensor(feature['input_ids'], dtype=torch.long),\n",
    "                'attention_mask':torch.tensor(feature['attention_mask'], dtype=torch.long),\n",
    "                'offset_mapping':feature['offset_mapping'],\n",
    "                'sequence_ids':feature['sequence_ids'],\n",
    "                'id':feature['example_id'],\n",
    "                'context': feature['context'],\n",
    "                'question': feature['question']\n",
    "            }"
   ]
  },
  {
   "cell_type": "markdown",
   "metadata": {},
   "source": [
    "# Model"
   ]
  },
  {
   "cell_type": "code",
   "execution_count": null,
   "metadata": {
    "execution": {
     "iopub.execute_input": "2021-08-17T20:47:35.254672Z",
     "iopub.status.busy": "2021-08-17T20:47:35.254322Z",
     "iopub.status.idle": "2021-08-17T20:47:35.265167Z",
     "shell.execute_reply": "2021-08-17T20:47:35.262908Z",
     "shell.execute_reply.started": "2021-08-17T20:47:35.254640Z"
    }
   },
   "outputs": [],
   "source": [
    "class Model(nn.Module):\n",
    "    def __init__(self, modelname_or_path, config):\n",
    "        super(Model, self).__init__()\n",
    "        self.config = config\n",
    "        self.xlm_roberta = AutoModel.from_pretrained(\n",
    "            modelname_or_path, \n",
    "            config=config\n",
    "        )\n",
    "        self.qa_outputs = nn.Linear(config.hidden_size, 2)\n",
    "        self.dropout = nn.Dropout(config.hidden_dropout_prob)\n",
    "        self._init_weights(self.qa_outputs)\n",
    "        \n",
    "    def _init_weights(self, module):\n",
    "        if isinstance(module, nn.Linear):\n",
    "            module.weight.data.normal_(\n",
    "                mean=0, \n",
    "                std=self.config.initializer_range\n",
    "            )\n",
    "            if module.bias is not None:\n",
    "                module.bias.data.zero_()\n",
    "\n",
    "    def forward(\n",
    "        self, \n",
    "        input_ids, \n",
    "        attention_mask=None, \n",
    "        # token_type_ids=None\n",
    "    ):\n",
    "        outputs = self.xlm_roberta(\n",
    "            input_ids,\n",
    "            attention_mask=attention_mask,\n",
    "        )\n",
    "        sequence_output = outputs[0]\n",
    "        pooled_output = outputs[1]\n",
    "        # sequence_output = self.dropout(sequence_output)\n",
    "        qa_logits = self.qa_outputs(sequence_output)\n",
    "        start_logits, end_logits = qa_logits.split(1, dim=-1)\n",
    "        start_logits = start_logits.squeeze(-1)\n",
    "        end_logits = end_logits.squeeze(-1)\n",
    "        return start_logits, end_logits"
   ]
  },
  {
   "cell_type": "markdown",
   "metadata": {},
   "source": [
    "# Utilities"
   ]
  },
  {
   "cell_type": "code",
   "execution_count": null,
   "metadata": {
    "execution": {
     "iopub.execute_input": "2021-08-17T20:47:36.596846Z",
     "iopub.status.busy": "2021-08-17T20:47:36.596512Z",
     "iopub.status.idle": "2021-08-17T20:47:36.603533Z",
     "shell.execute_reply": "2021-08-17T20:47:36.602562Z",
     "shell.execute_reply.started": "2021-08-17T20:47:36.596814Z"
    }
   },
   "outputs": [],
   "source": [
    "def make_model(config, model_path=None):\n",
    "    if model_path:\n",
    "        model_config = AutoConfig.from_pretrained(model_path)\n",
    "        model = Model(model_path, config=model_config)\n",
    "    else:\n",
    "        model_config = AutoConfig.from_pretrained(config['config_name'])\n",
    "        model = Model(config['model_name_or_path'], config=model_config)\n",
    "    return model_config, model"
   ]
  },
  {
   "cell_type": "markdown",
   "metadata": {},
   "source": [
    "# Preprocess"
   ]
  },
  {
   "cell_type": "code",
   "execution_count": null,
   "metadata": {
    "execution": {
     "iopub.execute_input": "2021-08-17T14:12:19.177382Z",
     "iopub.status.busy": "2021-08-17T14:12:19.176671Z",
     "iopub.status.idle": "2021-08-17T14:12:19.187171Z",
     "shell.execute_reply": "2021-08-17T14:12:19.186363Z",
     "shell.execute_reply.started": "2021-08-17T14:12:19.177343Z"
    }
   },
   "outputs": [],
   "source": [
    "def prepare_test_features(config, example, tokenizer):\n",
    "    example['question'] = example['question'].lstrip()\n",
    "    tokenized_example = tokenizer(\n",
    "        example['question'],\n",
    "        example['context'],\n",
    "        truncation='only_second',\n",
    "        max_length=config['max_seq_length'],\n",
    "        stride=config['doc_stride'],\n",
    "        return_overflowing_tokens=True,\n",
    "        return_offsets_mapping=True,\n",
    "        padding='max_length',\n",
    "    )\n",
    "    features = []\n",
    "    for i in range(len(tokenized_example['input_ids'])):\n",
    "        feature = {}\n",
    "        feature['example_id'] = example['id']\n",
    "        feature['context'] = example['context']\n",
    "        feature['question'] = example['question']\n",
    "        feature['input_ids'] = tokenized_example['input_ids'][i]\n",
    "        feature['attention_mask'] = tokenized_example['attention_mask'][i]\n",
    "        feature['offset_mapping'] = tokenized_example['offset_mapping'][i]\n",
    "        feature['sequence_ids'] = [0 if i is None else i for i in tokenized_example.sequence_ids(i)]\n",
    "        features.append(feature)\n",
    "    return features"
   ]
  },
  {
   "cell_type": "markdown",
   "metadata": {},
   "source": [
    "# Postprocess"
   ]
  },
  {
   "cell_type": "code",
   "execution_count": null,
   "metadata": {
    "execution": {
     "iopub.execute_input": "2021-08-17T14:12:19.195729Z",
     "iopub.status.busy": "2021-08-17T14:12:19.195317Z",
     "iopub.status.idle": "2021-08-17T14:12:19.210639Z",
     "shell.execute_reply": "2021-08-17T14:12:19.209493Z",
     "shell.execute_reply.started": "2021-08-17T14:12:19.195636Z"
    }
   },
   "outputs": [],
   "source": [
    "import collections\n",
    "\n",
    "def postprocess_qa_predictions(examples, features, raw_predictions, tokenizer,\n",
    "                               n_best_size=20, max_answer_length=30):\n",
    "    all_start_logits, all_end_logits = raw_predictions\n",
    "    example_id_to_index = {k: i for i, k in enumerate(examples['id'])}\n",
    "    features_per_example = collections.defaultdict(list)\n",
    "    for i, feature in enumerate(features):\n",
    "        features_per_example[example_id_to_index[feature['example_id']]].append(i)\n",
    "    predictions = collections.OrderedDict()\n",
    "    print(f'post-processing {len(examples)} example predictions',\n",
    "          f'split into {len(features)} features')\n",
    "    for example_index, example in examples.iterrows():\n",
    "        feature_indices = features_per_example[example_index]\n",
    "        min_null_score = None\n",
    "        valid_answers = []\n",
    "        context = example['context']\n",
    "        for feature_index in feature_indices:\n",
    "            start_logits = all_start_logits[feature_index]\n",
    "            end_logits = all_end_logits[feature_index]\n",
    "            sequence_ids = features[feature_index]['sequence_ids']\n",
    "            context_index = 1\n",
    "            features[feature_index]['offset_mapping'] = [\n",
    "                (o if sequence_ids[k] == context_index else None)\n",
    "                for k, o in enumerate(features[feature_index]['offset_mapping'])\n",
    "            ]\n",
    "            offset_mapping = features[feature_index]['offset_mapping']\n",
    "            cls_index = features[feature_index]['input_ids'].index(tokenizer.cls_token_id)\n",
    "            feature_null_score = start_logits[cls_index] + end_logits[cls_index]\n",
    "            if min_null_score is None or min_null_score < feature_null_score:\n",
    "                min_null_score = feature_null_score\n",
    "            start_indexes = np.argsort(start_logits)[-1 : -n_best_size - 1 : -1].tolist()\n",
    "            end_indexes = np.argsort(end_logits)[-1 : -n_best_size - 1 : -1].tolist()\n",
    "            for start_index in start_indexes:\n",
    "                for end_index in end_indexes:\n",
    "                    if (\n",
    "                        start_index >= len(offset_mapping)\n",
    "                        or end_index >= len(offset_mapping)\n",
    "                        or offset_mapping[start_index] is None\n",
    "                        or offset_mapping[end_index] is None\n",
    "                    ):\n",
    "                        continue\n",
    "                    # Don't consider answers with a length that is either < 0 or > max_answer_length.\n",
    "                    if (\n",
    "                        end_index < start_index \n",
    "                        or end_index - start_index + 1 > max_answer_length\n",
    "                    ):\n",
    "                        continue\n",
    "                    start_char = offset_mapping[start_index][0]\n",
    "                    end_char = offset_mapping[end_index][1]\n",
    "                    valid_answers.append(\n",
    "                        {\n",
    "                            'score': start_logits[start_index] + end_logits[end_index],\n",
    "                            'text': context[start_char: end_char]\n",
    "                        }\n",
    "                    )\n",
    "        if len(valid_answers) > 0:\n",
    "            best_answer = sorted(valid_answers, key=lambda x: x['score'], reverse=True)[0]\n",
    "        else:\n",
    "            best_answer = {'text': '', 'score': 0.0}\n",
    "        predictions[example['id']] = best_answer['text']\n",
    "    return predictions"
   ]
  },
  {
   "cell_type": "markdown",
   "metadata": {},
   "source": [
    "# Inference"
   ]
  },
  {
   "cell_type": "code",
   "execution_count": null,
   "metadata": {
    "execution": {
     "iopub.execute_input": "2021-08-17T14:12:20.198635Z",
     "iopub.status.busy": "2021-08-17T14:12:20.198275Z",
     "iopub.status.idle": "2021-08-17T14:12:20.208084Z",
     "shell.execute_reply": "2021-08-17T14:12:20.205158Z",
     "shell.execute_reply.started": "2021-08-17T14:12:20.198597Z"
    }
   },
   "outputs": [],
   "source": [
    "def get_predictions(config, model_path):\n",
    "    model_config, model = make_model(config, model_path)\n",
    "    model.cuda()\n",
    "    checkpoint_path = model_path + '/pytorch_model.bin'\n",
    "    model.load_state_dict(\n",
    "        torch.load(checkpoint_path)\n",
    "    )\n",
    "    start_logits = []\n",
    "    end_logits = []\n",
    "    for batch in test_dataloader:\n",
    "        with torch.no_grad():\n",
    "            outputs_start, outputs_end = model(\n",
    "                batch['input_ids'].cuda(), \n",
    "                batch['attention_mask'].cuda()\n",
    "            )\n",
    "            start_logits.append(outputs_start.cpu().numpy().tolist())\n",
    "            end_logits.append(outputs_end.cpu().numpy().tolist())\n",
    "            del outputs_start, outputs_end\n",
    "    del model, model_config\n",
    "    gc.collect()\n",
    "    return np.vstack(start_logits), np.vstack(end_logits)"
   ]
  },
  {
   "cell_type": "code",
   "execution_count": null,
   "metadata": {},
   "outputs": [],
   "source": [
    "TOKENIZER = AutoTokenizer.from_pretrained(f'{MDLS_PATH}')\n",
    "\n",
    "test = pd.read_csv(f'{DATA_PATH}/test.csv')\n",
    "test_features = []\n",
    "for i, row in tqdm(test.iterrows(), total=len(test)):\n",
    "    test_features += prepare_test_features(config, row, TOKENIZER)\n",
    "test_dataset = DatasetRetriever(test_features, mode='test')\n",
    "test_dataloader = DataLoader(\n",
    "    test_dataset,\n",
    "    batch_size=config['eval_batch_size'], \n",
    "    sampler=SequentialSampler(test_dataset),\n",
    "    num_workers=optimal_workers(),\n",
    "    pin_memory=True, \n",
    "    drop_last=False\n",
    ")"
   ]
  },
  {
   "cell_type": "code",
   "execution_count": null,
   "metadata": {},
   "outputs": [],
   "source": [
    "start_logits = []\n",
    "end_logits = []\n",
    "for fold_num in tqdm(range(config['folds'])):\n",
    "    start_logits_, end_logits_ = get_predictions(\n",
    "        config, \n",
    "        f'{MDLS_PATH}/checkpoint-fold-{fold_num}'\n",
    "    )\n",
    "    start_logits.append(start_logits_)\n",
    "    end_logits.append(end_logits_)"
   ]
  },
  {
   "cell_type": "code",
   "execution_count": null,
   "metadata": {},
   "outputs": [],
   "source": [
    "start_logits = np.mean(start_logits, axis=0)\n",
    "end_logits = np.mean(end_logits, axis=0)\n",
    "predictions = postprocess_qa_predictions(\n",
    "    test, \n",
    "    test_features, \n",
    "    (start_logits, end_logits), \n",
    "    TOKENIZER\n",
    ")"
   ]
  },
  {
   "cell_type": "code",
   "execution_count": null,
   "metadata": {},
   "outputs": [],
   "source": [
    "from string import punctuation\n",
    "\n",
    "subm = []\n",
    "for p1, p2 in predictions.items():\n",
    "    p2 = ' '.join(p2.split())\n",
    "    p2 = p2.strip(punctuation)\n",
    "    subm.append((p1, p2))\n",
    "sample = pd.DataFrame(subm, columns=[\"id\", \"PredictionString\"])\n",
    "test =pd.merge(left=test, right=sample, on='id')"
   ]
  },
  {
   "cell_type": "code",
   "execution_count": null,
   "metadata": {},
   "outputs": [],
   "source": [
    "bad_starts = ['.', ',', '(', ')', '-', '–', ',', ';']\n",
    "bad_endings = ['...', '-', '(', ')', '–', ',', ';']\n",
    "\n",
    "tamil_ad = 'கி.பி'\n",
    "tamil_bc = 'கி.மு'\n",
    "tamil_km = 'கி.மீ'\n",
    "hindi_ad = 'ई'\n",
    "hindi_bc = 'ई.पू'\n",
    "\n",
    "cleaned_preds = []\n",
    "for pred, context in test[['PredictionString', 'context']].to_numpy():\n",
    "    if pred == '':\n",
    "        cleaned_preds.append(pred)\n",
    "        continue\n",
    "    while any([pred.startswith(y) for y in bad_starts]):\n",
    "        pred = pred[1:]\n",
    "    while any([pred.endswith(y) for y in bad_endings]):\n",
    "        if pred.endswith('...'):\n",
    "            pred = pred[:-3]\n",
    "        else:\n",
    "            pred = pred[:-1]\n",
    "    \n",
    "    if any([\n",
    "        pred.endswith(tamil_ad), \n",
    "        pred.endswith(tamil_bc), \n",
    "        pred.endswith(tamil_km), \n",
    "        pred.endswith(hindi_ad), \n",
    "        pred.endswith(hindi_bc)\n",
    "    ]) and (pred + '.') in context:\n",
    "        pred = pred + '.'\n",
    "    cleaned_preds.append(pred)\n",
    "test['PredictionString'] = cleaned_preds\n",
    "test[['id', 'PredictionString']].to_csv('submission.csv', index=False)\n",
    "display(test[['id', 'PredictionString']])\n",
    "print('subm shape:', test[['id', 'PredictionString']].shape)\n",
    "\n",
    "elapsed_time = time.time() - start_time\n",
    "print(f'time elapsed: {elapsed_time // 60:.0f} min {elapsed_time % 60:.0f} sec')"
   ]
  }
 ],
 "metadata": {
  "kernelspec": {
   "display_name": "Orange Python 3",
   "language": "python",
   "name": "orange"
  },
  "language_info": {
   "codemirror_mode": {
    "name": "ipython",
    "version": 3
   },
   "file_extension": ".py",
   "mimetype": "text/x-python",
   "name": "python",
   "nbconvert_exporter": "python",
   "pygments_lexer": "ipython3",
   "version": "3.8.3"
  }
 },
 "nbformat": 4,
 "nbformat_minor": 4
}
